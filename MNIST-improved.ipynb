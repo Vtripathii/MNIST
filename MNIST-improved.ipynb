{
 "cells": [
  {
   "cell_type": "code",
   "execution_count": 51,
   "metadata": {},
   "outputs": [],
   "source": [
    "import torch\n",
    "import numpy as np"
   ]
  },
  {
   "cell_type": "code",
   "execution_count": 52,
   "metadata": {},
   "outputs": [],
   "source": [
    "from torchvision import datasets, transforms"
   ]
  },
  {
   "cell_type": "code",
   "execution_count": 53,
   "metadata": {},
   "outputs": [],
   "source": [
    "batch_size= 50"
   ]
  },
  {
   "cell_type": "code",
   "execution_count": 54,
   "metadata": {},
   "outputs": [],
   "source": [
    "transform= transforms.ToTensor()"
   ]
  },
  {
   "cell_type": "code",
   "execution_count": 55,
   "metadata": {},
   "outputs": [],
   "source": [
    "train_data= datasets.MNIST(root='data', transform= transform, train= True, download= True)"
   ]
  },
  {
   "cell_type": "code",
   "execution_count": 56,
   "metadata": {},
   "outputs": [],
   "source": [
    "test_data= datasets.MNIST(root='data', transform= transform, train= False, download= True)"
   ]
  },
  {
   "cell_type": "code",
   "execution_count": 58,
   "metadata": {},
   "outputs": [],
   "source": [
    "import matplotlib.pyplot as plt\n",
    "%matplotlib inline"
   ]
  },
  {
   "cell_type": "code",
   "execution_count": 8,
   "metadata": {},
   "outputs": [],
   "source": [
    "trainloader= torch.utils.data.DataLoader(train_data, batch_size=50, shuffle=True)\n",
    "testloader= torch.utils.data.DataLoader(test_data, batch_size=50, shuffle=True)"
   ]
  },
  {
   "cell_type": "code",
   "execution_count": 9,
   "metadata": {},
   "outputs": [],
   "source": [
    "images, labels= next(iter(trainloader))\n",
    "images=images.numpy()"
   ]
  },
  {
   "cell_type": "code",
   "execution_count": 59,
   "metadata": {},
   "outputs": [
    {
     "data": {
      "image/png": "[encoded data removed]",
      "text/plain": [
       "<Figure size 1800x288 with 20 Axes>"
      ]
     },
     "metadata": {},
     "output_type": "display_data"
    }
   ],
   "source": [
    "fig= plt.figure(figsize=(25,4))\n",
    "for idx in np.arange(20):\n",
    "    ax=fig.add_subplot(2,20/2,idx+1,xticks=[], yticks=[])\n",
    "    ax.imshow(np.squeeze(images[idx]))\n",
    "    ax.set_title(str(labels[idx].item()))"
   ]
  },
  {
   "cell_type": "code",
   "execution_count": 41,
   "metadata": {},
   "outputs": [],
   "source": [
    "import torch.nn as nn\n",
    "import torch.nn.functional as F\n",
    "\n",
    "\n",
    "\n",
    "\n",
    "class Net(nn.Module):\n",
    "    def __init__(self):\n",
    "        super(Net,self).__init__()\n",
    "        \n",
    "        \n",
    "        self.fc1= nn.Linear(784,512)\n",
    "\n",
    "        self.fc2= nn.Linear(512,256)\n",
    "\n",
    "        self.fc3= nn.Linear(256,64)\n",
    "\n",
    "        self.fc4= nn.Linear(64,10)\n",
    "        self.dropout = nn.Dropout(0.2)\n",
    "        \n",
    "        \n",
    "    def forward(self,x):\n",
    "        x=x.view(-1,784)\n",
    "        x=nn.functional.relu(self.fc1(x))\n",
    "        x = self.dropout(x)\n",
    "\n",
    "        x=nn.functional.relu(self.fc2(x))\n",
    "        x = self.dropout(x)\n",
    "\n",
    "        x=nn.functional.relu(self.fc3(x))\n",
    "        x = self.dropout(x)\n",
    "\n",
    "        x=self.fc4(x)\n",
    "        \n",
    "        return x"
   ]
  },
  {
   "cell_type": "code",
   "execution_count": 43,
   "metadata": {},
   "outputs": [
    {
     "name": "stdout",
     "output_type": "stream",
     "text": [
      "Net(\n",
      "  (fc1): Linear(in_features=784, out_features=512, bias=True)\n",
      "  (fc2): Linear(in_features=512, out_features=256, bias=True)\n",
      "  (fc3): Linear(in_features=256, out_features=64, bias=True)\n",
      "  (fc4): Linear(in_features=64, out_features=10, bias=True)\n",
      "  (dropout): Dropout(p=0.2, inplace=False)\n",
      ")\n"
     ]
    }
   ],
   "source": [
    "model= Net()\n",
    "print(model)"
   ]
  },
  {
   "cell_type": "code",
   "execution_count": 44,
   "metadata": {},
   "outputs": [],
   "source": [
    "criterion = nn.CrossEntropyLoss()\n",
    "optimizer = torch.optim.SGD(model.parameters(), lr=0.01)\n"
   ]
  },
  {
   "cell_type": "code",
   "execution_count": 45,
   "metadata": {},
   "outputs": [
    {
     "name": "stdout",
     "output_type": "stream",
     "text": [
      "Epoch: 1 \tTraining Loss: 2.096897\n",
      "Epoch: 2 \tTraining Loss: 0.840293\n",
      "Epoch: 3 \tTraining Loss: 0.514318\n",
      "Epoch: 4 \tTraining Loss: 0.417991\n",
      "Epoch: 5 \tTraining Loss: 0.357070\n",
      "Epoch: 6 \tTraining Loss: 0.311578\n",
      "Epoch: 7 \tTraining Loss: 0.274279\n",
      "Epoch: 8 \tTraining Loss: 0.241393\n",
      "Epoch: 9 \tTraining Loss: 0.218411\n",
      "Epoch: 10 \tTraining Loss: 0.198272\n",
      "Epoch: 11 \tTraining Loss: 0.178246\n",
      "Epoch: 12 \tTraining Loss: 0.166059\n",
      "Epoch: 13 \tTraining Loss: 0.150777\n",
      "Epoch: 14 \tTraining Loss: 0.140704\n",
      "Epoch: 15 \tTraining Loss: 0.135173\n",
      "Epoch: 16 \tTraining Loss: 0.123883\n",
      "Epoch: 17 \tTraining Loss: 0.116847\n",
      "Epoch: 18 \tTraining Loss: 0.109451\n",
      "Epoch: 19 \tTraining Loss: 0.105691\n",
      "Epoch: 20 \tTraining Loss: 0.100630\n",
      "Epoch: 21 \tTraining Loss: 0.094289\n",
      "Epoch: 22 \tTraining Loss: 0.089364\n",
      "Epoch: 23 \tTraining Loss: 0.085393\n",
      "Epoch: 24 \tTraining Loss: 0.080798\n",
      "Epoch: 25 \tTraining Loss: 0.077539\n",
      "Epoch: 26 \tTraining Loss: 0.074325\n",
      "Epoch: 27 \tTraining Loss: 0.072156\n",
      "Epoch: 28 \tTraining Loss: 0.069853\n",
      "Epoch: 29 \tTraining Loss: 0.064711\n",
      "Epoch: 30 \tTraining Loss: 0.064085\n",
      "Epoch: 31 \tTraining Loss: 0.060651\n",
      "Epoch: 32 \tTraining Loss: 0.059164\n",
      "Epoch: 33 \tTraining Loss: 0.055022\n",
      "Epoch: 34 \tTraining Loss: 0.052559\n",
      "Epoch: 35 \tTraining Loss: 0.050256\n",
      "Epoch: 36 \tTraining Loss: 0.049485\n",
      "Epoch: 37 \tTraining Loss: 0.046913\n",
      "Epoch: 38 \tTraining Loss: 0.047106\n",
      "Epoch: 39 \tTraining Loss: 0.043418\n",
      "Epoch: 40 \tTraining Loss: 0.043919\n",
      "Epoch: 41 \tTraining Loss: 0.040811\n",
      "Epoch: 42 \tTraining Loss: 0.039517\n",
      "Epoch: 43 \tTraining Loss: 0.039300\n",
      "Epoch: 44 \tTraining Loss: 0.036814\n",
      "Epoch: 45 \tTraining Loss: 0.037980\n",
      "Epoch: 46 \tTraining Loss: 0.033180\n",
      "Epoch: 47 \tTraining Loss: 0.032844\n",
      "Epoch: 48 \tTraining Loss: 0.033001\n",
      "Epoch: 49 \tTraining Loss: 0.031977\n",
      "Epoch: 50 \tTraining Loss: 0.031293\n"
     ]
    }
   ],
   "source": [
    "epochs= 50\n",
    "model.train()\n",
    "\n",
    "\n",
    "for epoch in range(epochs):\n",
    "    train_loss=0.0\n",
    "    \n",
    "    \n",
    "    for data, targets  in trainloader:\n",
    "        optimizer.zero_grad()\n",
    "        output=model(data)\n",
    "        loss=criterion(output,targets)\n",
    "        loss.backward()\n",
    "        optimizer.step()\n",
    "    \n",
    "    \n",
    "        train_loss+= loss.item() * data.size(0)\n",
    "    \n",
    "    train_loss= train_loss/len(trainloader.sampler)\n",
    "\n",
    "    \n",
    "    print('Epoch: {} \\tTraining Loss: {:.6f}'.format(\n",
    "        epoch+1, \n",
    "        train_loss\n",
    "        ))"
   ]
  },
  {
   "cell_type": "code",
   "execution_count": 47,
   "metadata": {},
   "outputs": [
    {
     "name": "stdout",
     "output_type": "stream",
     "text": [
      "Test Loss: 0.000172\n",
      "\n",
      "Test Accuracy of     0: 99% (971/980)\n",
      "Test Accuracy of     1: 99% (1124/1135)\n",
      "Test Accuracy of     2: 97% (1011/1032)\n",
      "Test Accuracy of     3: 98% (996/1010)\n",
      "Test Accuracy of     4: 97% (962/982)\n",
      "Test Accuracy of     5: 98% (880/892)\n",
      "Test Accuracy of     6: 97% (938/958)\n",
      "Test Accuracy of     7: 97% (998/1028)\n",
      "Test Accuracy of     8: 97% (950/974)\n",
      "Test Accuracy of     9: 98% (990/1009)\n",
      "\n",
      "Test Accuracy (Overall): 98% (9820/10000)\n"
     ]
    }
   ],
   "source": [
    "test_loss=0.0\n",
    "class_correct=list(0. for i in range(10))\n",
    "class_total= list(0. for i in range(10))\n",
    "\n",
    "\n",
    "model.eval()\n",
    "\n",
    "\n",
    "for data, target in testloader:\n",
    "    output=model(data)\n",
    "    loss=criterion(output,target)\n",
    "    test_loss= loss.item() * data.size(0)\n",
    "    \n",
    "    _,pred= torch.max(output,1)\n",
    "    correct=np.squeeze(pred.eq(target.data.view_as(pred)))\n",
    "    for i in range(len(target)):\n",
    "        label=target.data[i]\n",
    "        \n",
    "        class_correct[label]+=correct[i].item()\n",
    "        class_total[label]+=1\n",
    "        \n",
    "test_loss = test_loss/len(testloader.sampler)\n",
    "print('Test Loss: {:.6f}\\n'.format(test_loss))\n",
    "\n",
    "for i in range(10):\n",
    "    if class_total[i] > 0:\n",
    "        print('Test Accuracy of %5s: %2d%% (%2d/%2d)' % (\n",
    "            str(i), 100 * class_correct[i] / class_total[i],\n",
    "            np.sum(class_correct[i]), np.sum(class_total[i])))\n",
    "    else:\n",
    "        print('Test Accuracy of %5s: N/A (no training examples)' % (classes[i]))\n",
    "\n",
    "print('\\nTest Accuracy (Overall): %2d%% (%2d/%2d)' % (\n",
    "    100. * np.sum(class_correct) / np.sum(class_total),\n",
    "    np.sum(class_correct), np.sum(class_total)))"
   ]
  },
  {
   "cell_type": "code",
   "execution_count": 66,
   "metadata": {},
   "outputs": [
    {
     "data": {
      "image/png": "[encoded data removed]",
      "text/plain": [
       "<Figure size 1800x288 with 20 Axes>"
      ]
     },
     "metadata": {},
     "output_type": "display_data"
    }
   ],
   "source": [
    "images,labels= next(iter(testloader))\n",
    "output=model(images)\n",
    "_,preds=torch.max(output,1)\n",
    "images= images.numpy()\n",
    "\n",
    "\n",
    "fig=plt.figure(figsize=[25,4])\n",
    "for idx in np.arange(20):\n",
    "    ax = fig.add_subplot(2, 20/2, idx+1, xticks=[], yticks=[])\n",
    "    ax.imshow(np.squeeze(images[idx]))\n",
    "    ax.set_title(\"{} ({})\".format(str(preds[idx].item()),str(labels[idx].item())),\n",
    "                color=(\"green\" if preds[idx]==labels[idx] else \"red\"))"
   ]
  },
  {
   "cell_type": "code",
   "execution_count": null,
   "metadata": {},
   "outputs": [],
   "source": []
  }
 ],
 "metadata": {
  "kernelspec": {
   "display_name": "Python 3.7 (tensorflow)",
   "language": "python",
   "name": "tensorflow"
  },
  "language_info": {
   "codemirror_mode": {
    "name": "ipython",
    "version": 3
   },
   "file_extension": ".py",
   "mimetype": "text/x-python",
   "name": "python",
   "nbconvert_exporter": "python",
   "pygments_lexer": "ipython3",
   "version": "3.7.7"
  }
 },
 "nbformat": 4,
 "nbformat_minor": 4
}
