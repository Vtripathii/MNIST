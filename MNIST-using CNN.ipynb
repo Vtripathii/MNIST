{
 "cells": [
  {
   "cell_type": "code",
   "execution_count": 1,
   "metadata": {},
   "outputs": [],
   "source": [
    "import torch\n",
    "import numpy as np"
   ]
  },
  {
   "cell_type": "code",
   "execution_count": 2,
   "metadata": {},
   "outputs": [],
   "source": [
    "from torchvision import datasets, transforms\n",
    "import torch.nn.functional as F"
   ]
  },
  {
   "cell_type": "code",
   "execution_count": 3,
   "metadata": {},
   "outputs": [],
   "source": [
    "num_workers= 0\n",
    "batch_size = 64\n"
   ]
  },
  {
   "cell_type": "code",
   "execution_count": 4,
   "metadata": {},
   "outputs": [],
   "source": [
    "transform= transforms.ToTensor()"
   ]
  },
  {
   "cell_type": "code",
   "execution_count": 6,
   "metadata": {},
   "outputs": [],
   "source": [
    "train_data=datasets.MNIST(root='data', download=True, train= True, transform= transform)\n",
    "test_data=datasets.MNIST(root='data', download=True, train= False, transform= transform)"
   ]
  },
  {
   "cell_type": "code",
   "execution_count": 7,
   "metadata": {},
   "outputs": [],
   "source": [
    "train_loader= torch.utils.data.DataLoader(train_data,batch_size=batch_size,num_workers=num_workers)\n",
    "test_loader= torch.utils.data.DataLoader(test_data,batch_size=batch_size,num_workers=num_workers)"
   ]
  },
  {
   "cell_type": "code",
   "execution_count": 9,
   "metadata": {},
   "outputs": [
    {
     "data": {
      "image/png": "[encoded data removed]",
      "text/plain": [
       "<Figure size 1800x288 with 20 Axes>"
      ]
     },
     "metadata": {},
     "output_type": "display_data"
    }
   ],
   "source": [
    "import matplotlib.pyplot as plt\n",
    "%matplotlib inline\n",
    "\n",
    "images, labels= next(iter(train_loader))\n",
    "images= images.numpy()\n",
    "\n",
    "fig= plt.figure(figsize=(25,4))\n",
    "\n",
    "for idx in np.arange(20):\n",
    "    ax=fig.add_subplot(2,20/2,idx+1,xticks=[],yticks=[])\n",
    "    ax.imshow(np.squeeze(images[idx]))\n",
    "    ax.set_title(str(labels[idx].item()))"
   ]
  },
  {
   "cell_type": "code",
   "execution_count": 22,
   "metadata": {},
   "outputs": [],
   "source": [
    "import torch.nn as nn\n",
    "\n",
    "\n",
    "class Net(nn.Module):\n",
    "    def __init__(self):\n",
    "        super(Net,self).__init__()\n",
    "        \n",
    "        \n",
    "        self.conv1 = nn.Conv2d(1,32,3,stride=1,padding=1)\n",
    "        self.conv2 = nn.Conv2d(32,64,3,stride=1,padding=1)\n",
    "        \n",
    "        \n",
    "        self.pool= nn.MaxPool2d(2,2)\n",
    "        \n",
    "        self.fc1 = nn.Linear(3136,128)\n",
    "        self.fc2 = nn.Linear(128,10)\n",
    "        \n",
    "        self.dropout= nn.Dropout(0.5)\n",
    "        \n",
    "        \n",
    "    def forward(self,x):\n",
    "        x = self.pool(F.relu(self.conv1(x)))\n",
    "        x = self.pool(F.relu(self.conv2(x)))\n",
    "        \n",
    "        x = x.reshape(x.size(0), -1)\n",
    "        x = F.relu(self.fc1(x))\n",
    "        x = self.dropout(x)\n",
    "        x = self.fc2(x)\n",
    "        \n",
    "        \n",
    "        return x\n",
    "        "
   ]
  },
  {
   "cell_type": "code",
   "execution_count": 23,
   "metadata": {},
   "outputs": [
    {
     "name": "stdout",
     "output_type": "stream",
     "text": [
      "Net(\n",
      "  (conv1): Conv2d(1, 32, kernel_size=(3, 3), stride=(1, 1), padding=(1, 1))\n",
      "  (conv2): Conv2d(32, 64, kernel_size=(3, 3), stride=(1, 1), padding=(1, 1))\n",
      "  (pool): MaxPool2d(kernel_size=2, stride=2, padding=0, dilation=1, ceil_mode=False)\n",
      "  (fc1): Linear(in_features=3136, out_features=128, bias=True)\n",
      "  (fc2): Linear(in_features=128, out_features=10, bias=True)\n",
      "  (dropout): Dropout(p=0.5, inplace=False)\n",
      ")\n"
     ]
    }
   ],
   "source": [
    "model = Net()\n",
    "print(model)"
   ]
  },
  {
   "cell_type": "code",
   "execution_count": 24,
   "metadata": {},
   "outputs": [],
   "source": [
    "import torch.optim as optim\n",
    "\n",
    "\n",
    "criterion = nn.CrossEntropyLoss()\n",
    "optimizer = torch.optim.Adam(model.parameters(),lr=0.001)"
   ]
  },
  {
   "cell_type": "code",
   "execution_count": 28,
   "metadata": {},
   "outputs": [
    {
     "name": "stdout",
     "output_type": "stream",
     "text": [
      "Epoch: 1 \tTraining Loss: 0.013468\n",
      "Epoch: 2 \tTraining Loss: 0.013665\n",
      "Epoch: 3 \tTraining Loss: 0.012462\n",
      "Epoch: 4 \tTraining Loss: 0.011339\n",
      "Epoch: 5 \tTraining Loss: 0.011098\n",
      "Epoch: 6 \tTraining Loss: 0.010702\n",
      "Epoch: 7 \tTraining Loss: 0.010819\n",
      "Epoch: 8 \tTraining Loss: 0.009984\n",
      "Epoch: 9 \tTraining Loss: 0.009979\n",
      "Epoch: 10 \tTraining Loss: 0.010887\n",
      "Epoch: 11 \tTraining Loss: 0.009254\n",
      "Epoch: 12 \tTraining Loss: 0.009909\n",
      "Epoch: 13 \tTraining Loss: 0.009041\n",
      "Epoch: 14 \tTraining Loss: 0.009505\n",
      "Epoch: 15 \tTraining Loss: 0.008295\n",
      "Epoch: 16 \tTraining Loss: 0.007273\n",
      "Epoch: 17 \tTraining Loss: 0.008781\n",
      "Epoch: 18 \tTraining Loss: 0.008729\n",
      "Epoch: 19 \tTraining Loss: 0.006532\n",
      "Epoch: 20 \tTraining Loss: 0.009381\n"
     ]
    }
   ],
   "source": [
    "epochs= 20\n",
    "\n",
    "for epoch in range(epochs):\n",
    "    train_loss= 0.0\n",
    "    \n",
    "    for data,target in train_loader:\n",
    "        optimizer.zero_grad()\n",
    "        output = model(data)\n",
    "        loss = criterion(output,target)\n",
    "        loss.backward()\n",
    "        optimizer.step()\n",
    "        \n",
    "        train_loss+= loss.item() \n",
    "        \n",
    "    train_loss= train_loss/len(train_loader)\n",
    "\n",
    "    \n",
    "    print('Epoch: {} \\tTraining Loss: {:.6f}'.format(\n",
    "        epoch+1, \n",
    "        train_loss\n",
    "        ))"
   ]
  },
  {
   "cell_type": "code",
   "execution_count": 29,
   "metadata": {},
   "outputs": [
    {
     "name": "stdout",
     "output_type": "stream",
     "text": [
      "Test Loss: 0.000000\n",
      "\n",
      "Test Accuracy of     0: 99% (978/980)\n",
      "Test Accuracy of     1: 99% (1132/1135)\n",
      "Test Accuracy of     2: 98% (1018/1032)\n",
      "Test Accuracy of     3: 99% (1008/1010)\n",
      "Test Accuracy of     4: 99% (976/982)\n",
      "Test Accuracy of     5: 98% (883/892)\n",
      "Test Accuracy of     6: 99% (949/958)\n",
      "Test Accuracy of     7: 99% (1022/1028)\n",
      "Test Accuracy of     8: 98% (964/974)\n",
      "Test Accuracy of     9: 97% (988/1009)\n",
      "\n",
      "Test Accuracy (Overall): 99% (9918/10000)\n"
     ]
    }
   ],
   "source": [
    "test_loss=0.0\n",
    "class_correct=list(0. for i in range(10))\n",
    "class_total= list(0. for i in range(10))\n",
    "\n",
    "\n",
    "model.eval()\n",
    "\n",
    "\n",
    "for data, target in test_loader:\n",
    "    output=model(data)\n",
    "    loss=criterion(output,target)\n",
    "    test_loss= loss.item() * data.size(0)\n",
    "    \n",
    "    _,pred= torch.max(output,1)\n",
    "    correct=np.squeeze(pred.eq(target.data.view_as(pred)))\n",
    "    for i in range(len(target)):\n",
    "        label=target.data[i]\n",
    "        \n",
    "        class_correct[label]+=correct[i].item()\n",
    "        class_total[label]+=1\n",
    "        \n",
    "test_loss = test_loss/len(test_loader)\n",
    "print('Test Loss: {:.6f}\\n'.format(test_loss))\n",
    "\n",
    "for i in range(10):\n",
    "    if class_total[i] > 0:\n",
    "        print('Test Accuracy of %5s: %2d%% (%2d/%2d)' % (\n",
    "            str(i), 100 * class_correct[i] / class_total[i],\n",
    "            np.sum(class_correct[i]), np.sum(class_total[i])))\n",
    "    else:\n",
    "        print('Test Accuracy of %5s: N/A (no training examples)' % (classes[i]))\n",
    "\n",
    "print('\\nTest Accuracy (Overall): %2d%% (%2d/%2d)' % (\n",
    "    100. * np.sum(class_correct) / np.sum(class_total),\n",
    "    np.sum(class_correct), np.sum(class_total)))"
   ]
  },
  {
   "cell_type": "code",
   "execution_count": 31,
   "metadata": {},
   "outputs": [
    {
     "data": {
      "image/png": "[encoded data removed]",
      "text/plain": [
       "<Figure size 1800x288 with 20 Axes>"
      ]
     },
     "metadata": {},
     "output_type": "display_data"
    }
   ],
   "source": [
    "images,labels= next(iter(test_loader))\n",
    "output=model(images)\n",
    "_,preds=torch.max(output,1)\n",
    "images= images.numpy()\n",
    "\n",
    "\n",
    "fig=plt.figure(figsize=[25,4])\n",
    "for idx in np.arange(20):\n",
    "    ax = fig.add_subplot(2, 20/2, idx+1, xticks=[], yticks=[])\n",
    "    ax.imshow(np.squeeze(images[idx]))\n",
    "    ax.set_title(\"{} ({})\".format(str(preds[idx].item()),str(labels[idx].item())),\n",
    "                color=(\"green\" if preds[idx]==labels[idx] else \"red\"))\n"
   ]
  },
  {
   "cell_type": "code",
   "execution_count": null,
   "metadata": {},
   "outputs": [],
   "source": []
  }
 ],
 "metadata": {
  "kernelspec": {
   "display_name": "Python 3",
   "language": "python",
   "name": "python3"
  },
  "language_info": {
   "codemirror_mode": {
    "name": "ipython",
    "version": 3
   },
   "file_extension": ".py",
   "mimetype": "text/x-python",
   "name": "python",
   "nbconvert_exporter": "python",
   "pygments_lexer": "ipython3",
   "version": "3.7.7"
  }
 },
 "nbformat": 4,
 "nbformat_minor": 4
}
