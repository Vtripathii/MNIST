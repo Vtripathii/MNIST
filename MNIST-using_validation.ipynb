{
 "cells": [
  {
   "cell_type": "code",
   "execution_count": 1,
   "metadata": {},
   "outputs": [],
   "source": [
    "import torch\n",
    "import numpy as np\n",
    "from torchvision import datasets, transforms\n",
    "import torch.nn.functional as F\n",
    "from torch.utils.data.sampler import SubsetRandomSampler\n"
   ]
  },
  {
   "cell_type": "code",
   "execution_count": 2,
   "metadata": {},
   "outputs": [],
   "source": [
    "batch_size = 32\n",
    "num_workers= 0\n",
    "valid_size = 0.2"
   ]
  },
  {
   "cell_type": "code",
   "execution_count": 3,
   "metadata": {},
   "outputs": [],
   "source": [
    "transform= transforms.ToTensor()"
   ]
  },
  {
   "cell_type": "code",
   "execution_count": 4,
   "metadata": {},
   "outputs": [],
   "source": [
    "train_data = datasets.MNIST(root='data', train= True, download= True, transform= transform)\n",
    "test_data = datasets.MNIST(root='data', train= False, download= True, transform= transform)"
   ]
  },
  {
   "cell_type": "code",
   "execution_count": 5,
   "metadata": {},
   "outputs": [],
   "source": [
    "num_train=len(train_data)\n",
    "indices=list(range(num_train))\n",
    "np.random.shuffle(indices)\n",
    "split=int(np.floor(valid_size*num_train))\n",
    "\n",
    "train_idx,valid_idx= indices[split:],indices[:split]"
   ]
  },
  {
   "cell_type": "code",
   "execution_count": 6,
   "metadata": {},
   "outputs": [],
   "source": [
    "train_sampler=SubsetRandomSampler(train_idx)\n",
    "valid_sampler=SubsetRandomSampler(valid_idx)"
   ]
  },
  {
   "cell_type": "code",
   "execution_count": 7,
   "metadata": {},
   "outputs": [],
   "source": [
    "train_loader = torch.utils.data.DataLoader(train_data, batch_size=batch_size, sampler=train_sampler, num_workers=num_workers)\n",
    "valid_loader = torch.utils.data.DataLoader(train_data, batch_size=batch_size, sampler=valid_sampler, num_workers=num_workers)\n",
    "test_loader  = torch.utils.data.DataLoader(test_data, batch_size=batch_size, num_workers=num_workers)"
   ]
  },
  {
   "cell_type": "code",
   "execution_count": 8,
   "metadata": {},
   "outputs": [
    {
     "data": {
      "image/png": "[encoded data removed]",
      "text/plain": [
       "<Figure size 1800x288 with 20 Axes>"
      ]
     },
     "metadata": {},
     "output_type": "display_data"
    }
   ],
   "source": [
    "import matplotlib.pyplot as plt\n",
    "%matplotlib inline\n",
    "\n",
    "dataiter = iter(train_loader)\n",
    "images, labels = dataiter.next()\n",
    "images = images.numpy()\n",
    "\n",
    "fig= plt.figure(figsize=(25,4))\n",
    "\n",
    "\n",
    "for idx in np.arange(20):\n",
    "    ax=fig.add_subplot(2,20/2,idx+1,xticks=[],yticks=[])\n",
    "    ax.imshow(np.squeeze(images[idx]))\n",
    "    ax.set_title(str(labels[idx].item()))"
   ]
  },
  {
   "cell_type": "code",
   "execution_count": 9,
   "metadata": {},
   "outputs": [
    {
     "name": "stdout",
     "output_type": "stream",
     "text": [
      "Net(\n",
      "  (fc1): Linear(in_features=784, out_features=512, bias=True)\n",
      "  (fc2): Linear(in_features=512, out_features=512, bias=True)\n",
      "  (fc3): Linear(in_features=512, out_features=10, bias=True)\n",
      "  (dropout): Dropout(p=0.2, inplace=False)\n",
      ")\n"
     ]
    }
   ],
   "source": [
    "import torch.nn as nn\n",
    "\n",
    "\n",
    "class Net(nn.Module):\n",
    "    def __init__(self):\n",
    "        super(Net, self).__init__()\n",
    "        \n",
    "        \n",
    "        hidden_1=512\n",
    "        hidden_2=512\n",
    "        \n",
    "        \n",
    "        self.fc1= nn.Linear(784,hidden_1)\n",
    "        self.fc2= nn.Linear(hidden_1,hidden_2)\n",
    "        self.fc3= nn.Linear(hidden_2, 10)\n",
    "        \n",
    "        self.dropout= nn.Dropout(0.2)\n",
    "        \n",
    "        \n",
    "        \n",
    "    def forward(self, x):\n",
    "        x=x.view(-1,784)\n",
    "        \n",
    "        x=F.relu(self.fc1(x))\n",
    "        x= self.dropout(x)\n",
    "        \n",
    "        x=F.relu(self.fc2(x))\n",
    "        x=self.dropout(x)\n",
    "        \n",
    "        x=self.fc3(x)\n",
    "        return x\n",
    "    \n",
    "\n",
    "    \n",
    "    \n",
    "\n",
    "    \n",
    "model=Net()\n",
    "print(model)\n"
   ]
  },
  {
   "cell_type": "code",
   "execution_count": 10,
   "metadata": {},
   "outputs": [],
   "source": [
    "criterion = nn.CrossEntropyLoss()\n",
    "optimizer= torch.optim.SGD(model.parameters(), lr=0.01)"
   ]
  },
  {
   "cell_type": "code",
   "execution_count": 11,
   "metadata": {},
   "outputs": [
    {
     "name": "stdout",
     "output_type": "stream",
     "text": [
      "Epoch: 1 \tTraining Loss: 1.237665 \tValidation Loss: 0.463177\n",
      "Validation loss decreased (inf --> 0.463177).  Saving model ...\n",
      "Epoch: 2 \tTraining Loss: 0.432671 \tValidation Loss: 0.327635\n",
      "Validation loss decreased (0.463177 --> 0.327635).  Saving model ...\n",
      "Epoch: 3 \tTraining Loss: 0.346861 \tValidation Loss: 0.277092\n",
      "Validation loss decreased (0.327635 --> 0.277092).  Saving model ...\n",
      "Epoch: 4 \tTraining Loss: 0.299106 \tValidation Loss: 0.244807\n",
      "Validation loss decreased (0.277092 --> 0.244807).  Saving model ...\n",
      "Epoch: 5 \tTraining Loss: 0.263019 \tValidation Loss: 0.216272\n",
      "Validation loss decreased (0.244807 --> 0.216272).  Saving model ...\n",
      "Epoch: 6 \tTraining Loss: 0.234445 \tValidation Loss: 0.195147\n",
      "Validation loss decreased (0.216272 --> 0.195147).  Saving model ...\n",
      "Epoch: 7 \tTraining Loss: 0.211224 \tValidation Loss: 0.174848\n",
      "Validation loss decreased (0.195147 --> 0.174848).  Saving model ...\n",
      "Epoch: 8 \tTraining Loss: 0.190959 \tValidation Loss: 0.162208\n",
      "Validation loss decreased (0.174848 --> 0.162208).  Saving model ...\n",
      "Epoch: 9 \tTraining Loss: 0.176359 \tValidation Loss: 0.149256\n",
      "Validation loss decreased (0.162208 --> 0.149256).  Saving model ...\n",
      "Epoch: 10 \tTraining Loss: 0.161881 \tValidation Loss: 0.139405\n",
      "Validation loss decreased (0.149256 --> 0.139405).  Saving model ...\n",
      "Epoch: 11 \tTraining Loss: 0.150770 \tValidation Loss: 0.129792\n",
      "Validation loss decreased (0.139405 --> 0.129792).  Saving model ...\n",
      "Epoch: 12 \tTraining Loss: 0.139407 \tValidation Loss: 0.124484\n",
      "Validation loss decreased (0.129792 --> 0.124484).  Saving model ...\n",
      "Epoch: 13 \tTraining Loss: 0.129535 \tValidation Loss: 0.116391\n",
      "Validation loss decreased (0.124484 --> 0.116391).  Saving model ...\n",
      "Epoch: 14 \tTraining Loss: 0.120666 \tValidation Loss: 0.109054\n",
      "Validation loss decreased (0.116391 --> 0.109054).  Saving model ...\n",
      "Epoch: 15 \tTraining Loss: 0.114668 \tValidation Loss: 0.104837\n",
      "Validation loss decreased (0.109054 --> 0.104837).  Saving model ...\n",
      "Epoch: 16 \tTraining Loss: 0.107679 \tValidation Loss: 0.102161\n",
      "Validation loss decreased (0.104837 --> 0.102161).  Saving model ...\n",
      "Epoch: 17 \tTraining Loss: 0.101413 \tValidation Loss: 0.096236\n",
      "Validation loss decreased (0.102161 --> 0.096236).  Saving model ...\n",
      "Epoch: 18 \tTraining Loss: 0.094865 \tValidation Loss: 0.092963\n",
      "Validation loss decreased (0.096236 --> 0.092963).  Saving model ...\n",
      "Epoch: 19 \tTraining Loss: 0.091163 \tValidation Loss: 0.090670\n",
      "Validation loss decreased (0.092963 --> 0.090670).  Saving model ...\n",
      "Epoch: 20 \tTraining Loss: 0.085436 \tValidation Loss: 0.086163\n",
      "Validation loss decreased (0.090670 --> 0.086163).  Saving model ...\n",
      "Epoch: 21 \tTraining Loss: 0.082560 \tValidation Loss: 0.083458\n",
      "Validation loss decreased (0.086163 --> 0.083458).  Saving model ...\n",
      "Epoch: 22 \tTraining Loss: 0.078572 \tValidation Loss: 0.080787\n",
      "Validation loss decreased (0.083458 --> 0.080787).  Saving model ...\n",
      "Epoch: 23 \tTraining Loss: 0.074884 \tValidation Loss: 0.079878\n",
      "Validation loss decreased (0.080787 --> 0.079878).  Saving model ...\n",
      "Epoch: 24 \tTraining Loss: 0.070816 \tValidation Loss: 0.076517\n",
      "Validation loss decreased (0.079878 --> 0.076517).  Saving model ...\n",
      "Epoch: 25 \tTraining Loss: 0.068077 \tValidation Loss: 0.074079\n",
      "Validation loss decreased (0.076517 --> 0.074079).  Saving model ...\n",
      "Epoch: 26 \tTraining Loss: 0.064591 \tValidation Loss: 0.074969\n",
      "Epoch: 27 \tTraining Loss: 0.061388 \tValidation Loss: 0.071814\n",
      "Validation loss decreased (0.074079 --> 0.071814).  Saving model ...\n",
      "Epoch: 28 \tTraining Loss: 0.058991 \tValidation Loss: 0.070694\n",
      "Validation loss decreased (0.071814 --> 0.070694).  Saving model ...\n",
      "Epoch: 29 \tTraining Loss: 0.057431 \tValidation Loss: 0.071422\n",
      "Epoch: 30 \tTraining Loss: 0.055724 \tValidation Loss: 0.069983\n",
      "Validation loss decreased (0.070694 --> 0.069983).  Saving model ...\n",
      "Epoch: 31 \tTraining Loss: 0.052412 \tValidation Loss: 0.067611\n",
      "Validation loss decreased (0.069983 --> 0.067611).  Saving model ...\n",
      "Epoch: 32 \tTraining Loss: 0.051794 \tValidation Loss: 0.067186\n",
      "Validation loss decreased (0.067611 --> 0.067186).  Saving model ...\n",
      "Epoch: 33 \tTraining Loss: 0.048959 \tValidation Loss: 0.067675\n",
      "Epoch: 34 \tTraining Loss: 0.046360 \tValidation Loss: 0.065832\n",
      "Validation loss decreased (0.067186 --> 0.065832).  Saving model ...\n",
      "Epoch: 35 \tTraining Loss: 0.044916 \tValidation Loss: 0.064419\n",
      "Validation loss decreased (0.065832 --> 0.064419).  Saving model ...\n",
      "Epoch: 36 \tTraining Loss: 0.042270 \tValidation Loss: 0.063771\n",
      "Validation loss decreased (0.064419 --> 0.063771).  Saving model ...\n",
      "Epoch: 37 \tTraining Loss: 0.042397 \tValidation Loss: 0.063299\n",
      "Validation loss decreased (0.063771 --> 0.063299).  Saving model ...\n",
      "Epoch: 38 \tTraining Loss: 0.039404 \tValidation Loss: 0.063561\n",
      "Epoch: 39 \tTraining Loss: 0.038997 \tValidation Loss: 0.062012\n",
      "Validation loss decreased (0.063299 --> 0.062012).  Saving model ...\n",
      "Epoch: 40 \tTraining Loss: 0.037866 \tValidation Loss: 0.062368\n",
      "Epoch: 41 \tTraining Loss: 0.036473 \tValidation Loss: 0.060788\n",
      "Validation loss decreased (0.062012 --> 0.060788).  Saving model ...\n",
      "Epoch: 42 \tTraining Loss: 0.034881 \tValidation Loss: 0.061241\n",
      "Epoch: 43 \tTraining Loss: 0.034467 \tValidation Loss: 0.060564\n",
      "Validation loss decreased (0.060788 --> 0.060564).  Saving model ...\n",
      "Epoch: 44 \tTraining Loss: 0.033245 \tValidation Loss: 0.059692\n",
      "Validation loss decreased (0.060564 --> 0.059692).  Saving model ...\n",
      "Epoch: 45 \tTraining Loss: 0.031838 \tValidation Loss: 0.061196\n",
      "Epoch: 46 \tTraining Loss: 0.030421 \tValidation Loss: 0.058083\n",
      "Validation loss decreased (0.059692 --> 0.058083).  Saving model ...\n",
      "Epoch: 47 \tTraining Loss: 0.029749 \tValidation Loss: 0.059598\n",
      "Epoch: 48 \tTraining Loss: 0.029253 \tValidation Loss: 0.060108\n",
      "Epoch: 49 \tTraining Loss: 0.028443 \tValidation Loss: 0.058081\n",
      "Validation loss decreased (0.058083 --> 0.058081).  Saving model ...\n",
      "Epoch: 50 \tTraining Loss: 0.027435 \tValidation Loss: 0.058780\n"
     ]
    }
   ],
   "source": [
    "n_epochs= 50\n",
    "valid_loss_min= np.Inf\n",
    "\n",
    "\n",
    "for epoch in range(n_epochs):\n",
    "    train_loss=0.0\n",
    "    valid_loss=0.0\n",
    "    \n",
    "    model.train()\n",
    "    \n",
    "    \n",
    "    for data, target in train_loader:\n",
    "        optimizer.zero_grad()\n",
    "        output=model(data)\n",
    "        loss=criterion(output,target)\n",
    "        loss.backward()\n",
    "        optimizer.step()\n",
    "        \n",
    "        train_loss+= loss.item()*data.size(0)\n",
    "        \n",
    "    \n",
    "    \n",
    "    \n",
    "    model.eval()\n",
    "    for data,target in valid_loader:\n",
    "        output=model(data)\n",
    "        loss=criterion(output,target)\n",
    "        \n",
    "        valid_loss+= loss.item()*data.size(0)\n",
    "        \n",
    "        \n",
    "        \n",
    "    train_loss= train_loss/len(train_loader.sampler)\n",
    "    valid_loss= valid_loss/len(valid_loader.sampler)\n",
    "    \n",
    "    \n",
    "    \n",
    "    print('Epoch: {} \\tTraining Loss: {:.6f} \\tValidation Loss: {:.6f}'.format(\n",
    "        epoch+1, \n",
    "        train_loss,\n",
    "        valid_loss\n",
    "        ))\n",
    "    \n",
    "    \n",
    "    if valid_loss <= valid_loss_min:\n",
    "        print('Validation loss decreased ({:.6f} --> {:.6f}).  Saving model ...'.format(\n",
    "        valid_loss_min,\n",
    "        valid_loss))\n",
    "        torch.save(model.state_dict(), 'model.pt')\n",
    "        valid_loss_min = valid_loss"
   ]
  },
  {
   "cell_type": "code",
   "execution_count": 12,
   "metadata": {},
   "outputs": [
    {
     "data": {
      "text/plain": [
       "<All keys matched successfully>"
      ]
     },
     "execution_count": 12,
     "metadata": {},
     "output_type": "execute_result"
    }
   ],
   "source": [
    "model.load_state_dict(torch.load('model.pt'))\n"
   ]
  },
  {
   "cell_type": "code",
   "execution_count": 15,
   "metadata": {},
   "outputs": [
    {
     "name": "stdout",
     "output_type": "stream",
     "text": [
      "Test Loss: 0.059447\n",
      "\n",
      "Test Accuracy of     0: 98% (970/980)\n",
      "Test Accuracy of     1: 99% (1124/1135)\n",
      "Test Accuracy of     2: 97% (1006/1032)\n",
      "Test Accuracy of     3: 98% (993/1010)\n",
      "Test Accuracy of     4: 97% (960/982)\n",
      "Test Accuracy of     5: 97% (870/892)\n",
      "Test Accuracy of     6: 98% (944/958)\n",
      "Test Accuracy of     7: 97% (1001/1028)\n",
      "Test Accuracy of     8: 98% (957/974)\n",
      "Test Accuracy of     9: 96% (978/1009)\n",
      "\n",
      "Test Accuracy (Overall): 98% (9803/10000)\n"
     ]
    }
   ],
   "source": [
    "test_loss= 0.0\n",
    "class_correct = list(0. for i in range(10))\n",
    "class_total   = list(0. for i in range(10))\n",
    "\n",
    "\n",
    "model.eval()\n",
    "\n",
    "for data,target in test_loader:\n",
    "    output= model(data)\n",
    "    loss= criterion(output,target)\n",
    "    test_loss+=loss.item() * data.size(0)\n",
    "    \n",
    "    _,pred=torch.max(output,1)\n",
    "    \n",
    "    correct=np.squeeze(pred.eq(target.data.view_as(pred)))\n",
    "    \n",
    "    \n",
    "    for i in range(len(target)):\n",
    "        label=target.data[i]\n",
    "        \n",
    "        class_correct[label]+=correct[i].item()\n",
    "        class_total[label]+=1\n",
    "        \n",
    "        \n",
    "test_loss= test_loss/len(test_loader.sampler)\n",
    "print('Test Loss: {:.6f}\\n'.format(test_loss))\n",
    "\n",
    "\n",
    "for i in range(10):\n",
    "    if class_total[i] > 0:\n",
    "        print('Test Accuracy of %5s: %2d%% (%2d/%2d)' % (\n",
    "            str(i), 100 * class_correct[i] / class_total[i],\n",
    "            np.sum(class_correct[i]), np.sum(class_total[i])))\n",
    "    else:\n",
    "        print('Test Accuracy of %5s: N/A (no training examples)' % (classes[i]))\n",
    "\n",
    "print('\\nTest Accuracy (Overall): %2d%% (%2d/%2d)' % (\n",
    "    100. * np.sum(class_correct) / np.sum(class_total),\n",
    "    np.sum(class_correct), np.sum(class_total)))"
   ]
  },
  {
   "cell_type": "code",
   "execution_count": 23,
   "metadata": {},
   "outputs": [
    {
     "data": {
      "image/png": "[encoded data removed]",
      "text/plain": [
       "<Figure size 1800x288 with 20 Axes>"
      ]
     },
     "metadata": {},
     "output_type": "display_data"
    }
   ],
   "source": [
    "images,labels= next(iter(test_loader))\n",
    "output= model(images)\n",
    "_,pred= torch.max(output,1)\n",
    "\n",
    "images=images.numpy()\n",
    "\n",
    "fig=plt.figure(figsize=(25,4))\n",
    "for idx in np.arange(20):\n",
    "    ax= fig.add_subplot(2,20/2,idx+1,xticks=[],yticks=[])\n",
    "    ax.imshow(np.squeeze(images[idx]))\n",
    "    ax.set_title(\"{} ({})\".format(str(pred[idx].item()), str(labels[idx].item())),\n",
    "                 color=(\"green\" if pred[idx]==labels[idx] else \"red\"))"
   ]
  },
  {
   "cell_type": "code",
   "execution_count": null,
   "metadata": {},
   "outputs": [],
   "source": []
  }
 ],
 "metadata": {
  "kernelspec": {
   "display_name": "Python 3",
   "language": "python",
   "name": "python3"
  },
  "language_info": {
   "codemirror_mode": {
    "name": "ipython",
    "version": 3
   },
   "file_extension": ".py",
   "mimetype": "text/x-python",
   "name": "python",
   "nbconvert_exporter": "python",
   "pygments_lexer": "ipython3",
   "version": "3.7.7"
  }
 },
 "nbformat": 4,
 "nbformat_minor": 4
}
