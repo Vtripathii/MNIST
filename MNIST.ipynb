{
 "cells": [
  {
   "cell_type": "code",
   "execution_count": 21,
   "metadata": {},
   "outputs": [],
   "source": [
    "import torch"
   ]
  },
  {
   "cell_type": "code",
   "execution_count": 22,
   "metadata": {},
   "outputs": [],
   "source": [
    "from torch import nn\n",
    "import torch.nn.functional as F\n",
    "from torchvision import datasets, transforms"
   ]
  },
  {
   "cell_type": "code",
   "execution_count": 23,
   "metadata": {},
   "outputs": [],
   "source": [
    "transform = transforms.Compose ([\n",
    "    transforms.ToTensor(),\n",
    "    transforms.Normalize((0.5),(0.5))\n",
    "])"
   ]
  },
  {
   "cell_type": "code",
   "execution_count": 24,
   "metadata": {},
   "outputs": [],
   "source": [
    "trainset= datasets.MNIST('~/.pytorch/MNIST_data/', download= True, train = True, transform= transform)"
   ]
  },
  {
   "cell_type": "code",
   "execution_count": 25,
   "metadata": {},
   "outputs": [],
   "source": [
    "trainloader= torch.utils.data.DataLoader(trainset,batch_size=64,shuffle = True)"
   ]
  },
  {
   "cell_type": "code",
   "execution_count": 36,
   "metadata": {},
   "outputs": [],
   "source": [
    "model = nn.Sequential(nn.Linear(784,512),\n",
    "                     nn.ReLU(),\n",
    "                     nn.Linear(512,256),\n",
    "                     nn.ReLU(),\n",
    "                     nn.Linear(256,64),\n",
    "                     nn.ReLU(),\n",
    "                     nn.Linear(64,10),\n",
    "                     nn.LogSoftmax(dim=1))\n",
    "\n",
    "\n",
    "criterion= nn.NLLLoss()\n"
   ]
  },
  {
   "cell_type": "code",
   "execution_count": 37,
   "metadata": {},
   "outputs": [
    {
     "name": "stdout",
     "output_type": "stream",
     "text": [
      "Intital Weights Parameter containing:\n",
      "tensor([[ 0.0127, -0.0088, -0.0296,  ...,  0.0212, -0.0250,  0.0220],\n",
      "        [-0.0252, -0.0052, -0.0219,  ..., -0.0015, -0.0213,  0.0321],\n",
      "        [ 0.0160,  0.0212, -0.0037,  ..., -0.0236, -0.0017, -0.0035],\n",
      "        ...,\n",
      "        [ 0.0254,  0.0242, -0.0331,  ...,  0.0057,  0.0159, -0.0224],\n",
      "        [ 0.0049, -0.0277, -0.0267,  ...,  0.0306, -0.0069,  0.0242],\n",
      "        [ 0.0302,  0.0088, -0.0325,  ...,  0.0221, -0.0056,  0.0295]],\n",
      "       requires_grad=True)\n"
     ]
    }
   ],
   "source": [
    "print(\"Intital Weights\", model[0].weight)"
   ]
  },
  {
   "cell_type": "code",
   "execution_count": 38,
   "metadata": {},
   "outputs": [],
   "source": [
    "from torch import optim\n",
    "optimizer= optim.SGD(model.parameters(), lr=0.01)"
   ]
  },
  {
   "cell_type": "code",
   "execution_count": 64,
   "metadata": {},
   "outputs": [
    {
     "name": "stdout",
     "output_type": "stream",
     "text": [
      "Loss tensor(0.1672, grad_fn=<NllLossBackward>)\n",
      "Epoch: 26 \tTraining Loss: 9.087577084234274\n"
     ]
    }
   ],
   "source": [
    "epochs= 25\n",
    "running_loss=0\n",
    "loss_value=[]\n",
    "\n",
    "\n",
    "for e in range(epochs):\n",
    "    running_loss+=0\n",
    "    \n",
    "for images, labels in trainloader:\n",
    "    images=images.view(images.shape[0],-1)\n",
    "    \n",
    "    optimizer.zero_grad()\n",
    "\n",
    "\n",
    "    output= model.forward(images)\n",
    "    loss= criterion(output,labels)\n",
    "    loss.backward()\n",
    "    optimizer.step()\n",
    "\n",
    "    running_loss+=loss.item()* images.size(0)\n",
    "    loss_value.append(running_loss / len(trainloader))\n",
    "else:\n",
    "    print(\"Loss\",loss)\n",
    "    print(f\"Epoch: {epochs+1} \\tTraining Loss: {running_loss/len(trainloader)}\")\n",
    "        \n"
   ]
  },
  {
   "cell_type": "code",
   "execution_count": 65,
   "metadata": {},
   "outputs": [],
   "source": [
    "import matplotlib.pyplot as plt\n",
    "import numpy as np"
   ]
  },
  {
   "cell_type": "code",
   "execution_count": 66,
   "metadata": {},
   "outputs": [
    {
     "data": {
      "text/plain": [
       "[<matplotlib.lines.Line2D at 0x27e11b82e08>]"
      ]
     },
     "execution_count": 66,
     "metadata": {},
     "output_type": "execute_result"
    },
    {
     "data": {
      "image/png": "[encoded data removed]",
      "text/plain": [
       "<Figure size 432x288 with 1 Axes>"
      ]
     },
     "metadata": {
      "needs_background": "light"
     },
     "output_type": "display_data"
    }
   ],
   "source": [
    "plt.plot(np.array(loss_value), 'r')\n",
    "\n"
   ]
  },
  {
   "cell_type": "code",
   "execution_count": 86,
   "metadata": {},
   "outputs": [
    {
     "data": {
      "image/png": "[encoded data removed]",
      "text/plain": [
       "<Figure size 432x648 with 2 Axes>"
      ]
     },
     "metadata": {
      "needs_background": "light"
     },
     "output_type": "display_data"
    }
   ],
   "source": [
    "%matplotlib inline\n",
    "import helper\n",
    "\n",
    "\n",
    "images, labels = next(iter(trainloader))\n",
    "img = images[0].view(1, 784)\n",
    "with torch.no_grad():\n",
    "    logps = model(img)\n",
    "\n",
    "ps = torch.exp(logps)\n",
    "helper.view_classify(img.view(1, 28, 28), ps)"
   ]
  },
  {
   "cell_type": "code",
   "execution_count": null,
   "metadata": {},
   "outputs": [],
   "source": []
  }
 ],
 "metadata": {
  "kernelspec": {
   "display_name": "Python 3",
   "language": "python",
   "name": "python3"
  },
  "language_info": {
   "codemirror_mode": {
    "name": "ipython",
    "version": 3
   },
   "file_extension": ".py",
   "mimetype": "text/x-python",
   "name": "python",
   "nbconvert_exporter": "python",
   "pygments_lexer": "ipython3",
   "version": "3.7.7"
  }
 },
 "nbformat": 4,
 "nbformat_minor": 4
}
